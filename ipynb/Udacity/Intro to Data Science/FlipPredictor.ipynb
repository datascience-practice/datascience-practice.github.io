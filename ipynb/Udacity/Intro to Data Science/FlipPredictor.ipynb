{
 "cells": [
  {
   "cell_type": "code",
   "execution_count": 21,
   "metadata": {
    "collapsed": false
   },
   "outputs": [
    {
     "name": "stdout",
     "output_type": "stream",
     "text": [
      "Correct\n",
      "Correct\n",
      "Correct\n",
      "Correct\n",
      "Correct\n"
     ]
    }
   ],
   "source": [
    "#FlipPredictor\n",
    "#A coin is drawn at random from a bag of coins of varying probabilities\n",
    "#Each coin has the same chance of being drawn\n",
    "#Your class FlipPredictor will be initialized with a list of the probability of \n",
    "#heads for each coin. This list of probabilities can be accessed as self.coins \n",
    "#in the functions you must write. The function update will be called after every \n",
    "#flip to enable you to update your estimate of the probability of each coin being \n",
    "#the selected coin. The function pheads may be called and any time and will \n",
    "#return your best estimate of the next flip landing on heads.\n",
    "\n",
    "\n",
    "from __future__ import division\n",
    "class FlipPredictor(object):\n",
    "    def __init__(self,coins):\n",
    "        self.coins=coins\n",
    "        n=len(coins)\n",
    "        self.probs=[1/n]*n\n",
    "    \n",
    "    def pairs(self):\n",
    "        return zip(self.coins, self.probs)\n",
    "    \n",
    "    def pheads(self):\n",
    "        #Write a function that returns \n",
    "        #the probability of the next flip being heads \n",
    "           \n",
    "        return sum([coin * prob for coin, prob in self.pairs()])\n",
    "\n",
    "    def update(self,result):\n",
    "        #Write a function the updates\n",
    "        #the probabilities of flipping each coin\n",
    "        flip = 1 if result == 'H' else 0\n",
    "        \n",
    "        flip_x = lambda x: 1 - (flip+x) + 2*flip*x\n",
    "        \n",
    "        total = flip_x(self.pheads())\n",
    "        \n",
    "        probs_cmb = []\n",
    "        \n",
    "        \n",
    "        \n",
    "        self.probs = [flip_x(coin)/flipx * prob coin, prob in self.pairs()]\n",
    "        \n",
    "        \n",
    "\n",
    "#The code below this line tests your implementation. \n",
    "#You need not change it\n",
    "#You may add additional test cases or otherwise modify if desired\n",
    "def test(coins,flips):        \n",
    "    f=FlipPredictor(coins)\n",
    "    guesses=[]\n",
    "    for flip in flips:\n",
    "        f.update(flip)\n",
    "        guesses.append(f.pheads())\n",
    "    return guesses   \n",
    "        \n",
    "def maxdiff(l1,l2):\n",
    "    return max([abs(x-y) for x,y in zip(l1,l2)])\n",
    "\n",
    "testcases=[\n",
    "(([0.5,0.4,0.3],'HHTH'),[0.4166666666666667, 0.432, 0.42183098591549295, 0.43639398998330553]),\n",
    "(([0.14,0.32,0.42,0.81,0.21],'HHHTTTHHH'),[0.5255789473684211, 0.6512136991788505, 0.7295055220497553, 0.6187139453483192, 0.4823974597714815, 0.3895729901052968, 0.46081730193074644, 0.5444108434105802, 0.6297110187222278]),\n",
    "(([0.14,0.32,0.42,0.81,0.21],'TTTHHHHHH'),[0.2907741935483871, 0.25157009005730924, 0.23136284577678012, 0.2766575695593804, 0.3296000585271367, 0.38957299010529806, 0.4608173019307465, 0.5444108434105804, 0.6297110187222278]),\n",
    "(([0.12,0.45,0.23,0.99,0.35,0.36],'THHTHTTH'),[0.28514285714285714, 0.3378256513026052, 0.380956725493104, 0.3518717367468537, 0.37500429586037076, 0.36528605387582497, 0.3555106542906013, 0.37479179323540324]),\n",
    "(([0.03,0.32,0.59,0.53,0.55,0.42,0.65],'HHTHTTHTHHT'),[0.528705501618123, 0.5522060353798126, 0.5337142767315369, 0.5521920592821695, 0.5348391689038525, 0.5152373451083692, 0.535385450497415, 0.5168208803156963, 0.5357708613431963, 0.5510509656933194, 0.536055356823069])]\n",
    "\n",
    "for inputs,output in testcases:\n",
    "    if maxdiff(test(*inputs),output)<0.001:\n",
    "        print 'Correct'\n",
    "    else: print 'Incorrect'"
   ]
  },
  {
   "cell_type": "code",
   "execution_count": null,
   "metadata": {
    "collapsed": true
   },
   "outputs": [],
   "source": []
  }
 ],
 "metadata": {
  "kernelspec": {
   "display_name": "Python 2",
   "language": "python",
   "name": "python2"
  },
  "language_info": {
   "codemirror_mode": {
    "name": "ipython",
    "version": 2
   },
   "file_extension": ".py",
   "mimetype": "text/x-python",
   "name": "python",
   "nbconvert_exporter": "python",
   "pygments_lexer": "ipython2",
   "version": "2.7.9"
  }
 },
 "nbformat": 4,
 "nbformat_minor": 0
}
