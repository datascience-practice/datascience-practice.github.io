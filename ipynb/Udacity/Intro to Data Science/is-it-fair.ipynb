{
 "cells": [
  {
   "cell_type": "markdown",
   "metadata": {
    "slideshow": {
     "slide_type": "subslide"
    }
   },
   "source": [
    "#Basic conditions\n",
    "---\n",
    "\n",
    "* Probability of picking a fair coin:\n",
    "    p(f) = 0.9\n",
    "    \n",
    "* Probability of picking Heads given a fair coin:\n",
    "    p(h|f) = 0.5\n",
    "\n",
    "* Probability of picking a loaded coin:\n",
    "    p(l) = 0.1\n",
    "\n",
    "* Probability of picking Heads given a loaded coin:\n",
    "    p(h|l) = 0.9"
   ]
  },
  {
   "cell_type": "code",
   "execution_count": 21,
   "metadata": {
    "collapsed": true
   },
   "outputs": [],
   "source": [
    "def p_coin(coin):\n",
    "    res = {\n",
    "        'f': 0.1,\n",
    "        'l': 0.9\n",
    "    }\n",
    "    return res[coin]"
   ]
  },
  {
   "cell_type": "code",
   "execution_count": 22,
   "metadata": {
    "collapsed": false
   },
   "outputs": [
    {
     "name": "stdout",
     "output_type": "stream",
     "text": [
      "0.5\n"
     ]
    }
   ],
   "source": [
    "def p_flip_given_coin(flip, coin):\n",
    "    res = {\n",
    "        'h': {\n",
    "            'f': 0.5,\n",
    "            'l': 0.9\n",
    "        },\n",
    "        't': {\n",
    "            'f': 0.5,\n",
    "            'l': 0.1\n",
    "        }\n",
    "    }\n",
    "    return res[flip][coin]\n",
    "\n",
    "print(p_flip_given_coin('h', 'f'))\n",
    "    "
   ]
  },
  {
   "cell_type": "markdown",
   "metadata": {},
   "source": [
    "## Given outcome(sequence): 4H0T\n",
    "---\n",
    "\n",
    "* seq = 4H0T = HHHH"
   ]
  },
  {
   "cell_type": "code",
   "execution_count": 23,
   "metadata": {
    "collapsed": false
   },
   "outputs": [],
   "source": [
    "seq = (('h', 4), ('t', 0))"
   ]
  },
  {
   "cell_type": "markdown",
   "metadata": {},
   "source": [
    "### Fair coin case:\n",
    "---\n",
    "\n",
    "* probability of the sequence, given a fair coin:\n",
    "    p(seq|f) = p(h|f) ** 4 = 0.5**4\n",
    "* combined probability of picking a fair coin AND getting the sequence:\n",
    "    p(seq, f) = p(f) * p(seq|f)\n",
    "\n",
    "### Loaded coin case:\n",
    "---\n",
    "\n",
    "* probability of the outcome, given a loaded coin:\n",
    "    p(seq|l) = p(h|l) ** 4 = 0.5**4\n",
    "* combined probability of picking a fair coin AND getting the sequence:\n",
    "    p(seq, f) = p(f) * p(seq|f)"
   ]
  },
  {
   "cell_type": "code",
   "execution_count": 25,
   "metadata": {
    "collapsed": false
   },
   "outputs": [
    {
     "name": "stdout",
     "output_type": "stream",
     "text": [
      "Is probability 0.010473573080403526 of fair coin given seq (('h', 4), ('t', 0)) less than 0.5?\n",
      "Is probability 0.0003110980653488097 of fair coin given seq (('h', 10), ('t', 0)) less than 0.5?\n",
      "Is probability 8.71579506238195e-07 of fair coin given seq (('h', 20), ('t', 0)) less than 0.5?\n",
      "Is probability 0.9971282705807275 of fair coin given seq (('h', 0), ('t', 5)) less than 0.5?\n",
      "Is probability 0.8108458744161908 of fair coin given seq (('h', 2), ('t', 3)) less than 0.5?\n"
     ]
    }
   ],
   "source": [
    "def p_seq_given_coin(seq, coin):\n",
    "    \n",
    "    res = 1\n",
    "    \n",
    "    for flip, times in seq:\n",
    "        res *= p_flip_given_coin(flip, coin) ** times\n",
    "    \n",
    "    return res\n",
    "\n",
    "def p_comb_seq_coin(seq, coin):\n",
    "    \n",
    "    return p_seq_given_coin(seq, coin) * p_coin(coin)\n",
    "\n",
    "def p_coin_given_seq(coin, seq): \n",
    "    other_coin = 'l' if coin == 'f' else 'f' \n",
    "    p_comb = p_comb_seq_coin(seq, coin) \n",
    "    return p_comb / (p_comb + p_comb_seq_coin(seq, other_coin))\n",
    "\n",
    "for seq in [\n",
    "    (('h', 4), ('t', 0)),\n",
    "    (('h', 10), ('t', 0)),\n",
    "    (('h', 20), ('t', 0)),\n",
    "    (('h', 0), ('t', 5)),\n",
    "    (('h', 2), ('t', 3))\n",
    "]:\n",
    "    print(\"Is probability {1} of fair coin given seq {0} less than 0.5?\".format(seq, p_coin_given_seq('f', seq)))    "
   ]
  },
  {
   "cell_type": "code",
   "execution_count": null,
   "metadata": {
    "collapsed": true
   },
   "outputs": [],
   "source": []
  }
 ],
 "metadata": {
  "kernelspec": {
   "display_name": "Python 3",
   "language": "python",
   "name": "python3"
  },
  "language_info": {
   "codemirror_mode": {
    "name": "ipython",
    "version": 3
   },
   "file_extension": ".py",
   "mimetype": "text/x-python",
   "name": "python",
   "nbconvert_exporter": "python",
   "pygments_lexer": "ipython3",
   "version": "3.4.3"
  }
 },
 "nbformat": 4,
 "nbformat_minor": 0
}
